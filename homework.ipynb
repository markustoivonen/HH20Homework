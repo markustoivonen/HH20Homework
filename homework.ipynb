{
 "cells": [
  {
   "cell_type": "markdown",
   "metadata": {},
   "source": [
    "## Introduction\n",
    "\n",
    "This is the project for the course *Algorithms for Sequence Analysis in Bioinformatics*, done in March of 2020 by Markus Toivonen.\n",
    "\n",
    "In this project I collect a dataset that contains URLs that are considered safe and malicious. A malicious website in this context is defined as website designated for phishing purposes.\n",
    "\n",
    "From the URLs, I extract appropriate features that can be used determine their safetiness. These features of the data are then visualized and fed into a machine learning algorithm that tries to learn from a training data set to distinguish a safe URL from a malicious one."
   ]
  },
  {
   "cell_type": "markdown",
   "metadata": {},
   "source": [
    "## Gathering data\n",
    "\n",
    "For the phishing data, I used the [Phishtank](https://www.phishtank.com/developer_info.php) database, which contains around 10000 confirmed phishing URLs. As for the safe websites, I chose the [Cisco Umbrella](http://s3-us-west-1.amazonaws.com/umbrella-static/index.html) database, that contains 1 million of the most queried domains in the global Cisco Umbrella network. In hindsight the Cisco Umbrella dataset was not the best one to use as a whitelist data, but more on that at later parts of the Notebook."
   ]
  },
  {
   "cell_type": "markdown",
   "metadata": {},
   "source": [
    "## Imports"
   ]
  },
  {
   "cell_type": "code",
   "execution_count": 104,
   "metadata": {},
   "outputs": [],
   "source": [
    "# URL imports\n",
    "import requests\n",
    "import json\n",
    "import tld\n",
    "import urllib.request\n",
    "import re\n",
    "from urllib.parse import urlparse\n",
    "from bs4 import BeautifulSoup\n",
    "\n",
    "# Data handling imports \n",
    "import pandas as pd\n",
    "import numpy as np\n",
    "import matplotlib.pyplot as plt\n",
    "\n",
    "# ML imports\n",
    "from sklearn.preprocessing import MinMaxScaler\n",
    "from sklearn.model_selection import train_test_split\n",
    "from sklearn.metrics import classification_report, confusion_matrix, plot_confusion_matrix\n",
    "from sklearn.ensemble import GradientBoostingClassifier"
   ]
  },
  {
   "cell_type": "markdown",
   "metadata": {},
   "source": [
    "## Creating URL datasets\n",
    "\n",
    "The following script retrieves the URLs from the datasets downloaded from Phishtank and Cisco Umbrella, and creates separate files for both datasets. \n",
    "\n",
    "The Cisco dataset did not have the protocols in the URLs, so the script below queries the website (with `http` protocol) and returns the url that has the actual protocol of the website. The script waits only for 1 second for the server to respond, then it moves on to the next URL. The script will stop once 10000 URLs have been succesfully retrieved, and will save those to a csv file. "
   ]
  },
  {
   "cell_type": "code",
   "execution_count": null,
   "metadata": {},
   "outputs": [],
   "source": [
    "# Running this script takes around few hours, avoid it if you can.\n",
    "# The data it generates should be already available for you! :) \n",
    "\n",
    "# Read original data from Phishtank\n",
    "df = pd.read_csv(\"verified_online.csv\") \n",
    "\n",
    "df_phish = pd.DataFrame(df.iloc[:, 1]) # Pick only the column with the URLs\n",
    "df_phish.to_csv(\"phishing_data.csv\", index = False, header = False) # Create a csv with the URLs\n",
    "\n",
    "# Read original data from Cisco Umbrella\n",
    "df = pd.read_csv(\"top-1m.csv\").iloc[:, 1] # Pick only the URL column\n",
    "\n",
    "urls = np.array([])\n",
    "for row in df.values:\n",
    "        try:\n",
    "            r = requests.get(\"http://\"+row, timeout = 1) # add http as protocol\n",
    "            urls = np.append(urls, r.url) # r.url will have the ACTUAL protocol of the site, as returned by ´requests.get´\n",
    "            print(\"URLs checked succesfully:\", len(urls))\n",
    "            if len(urls) >= 10000: # \n",
    "                break\n",
    "        except:\n",
    "            print(\"Connection failed:\", row) # Could not manage connect to URL in 1 second\n",
    "\n",
    "df_safe = pd.DataFrame(urls)\n",
    "df_safe.to_csv(\"safe_data_10k.csv\", index = False, header = False)"
   ]
  },
  {
   "cell_type": "markdown",
   "metadata": {},
   "source": [
    "## Read datasets\n",
    "\n",
    "The following function reads files containing the safe and phishing URLs and returns two different pandas dataframes."
   ]
  },
  {
   "cell_type": "code",
   "execution_count": 2,
   "metadata": {},
   "outputs": [],
   "source": [
    "def read_datasets():\n",
    "\n",
    "    # Read the two data files\n",
    "    df_safe = pd.read_csv(\"safe_data_10k.csv\", names = [\"url\"])\n",
    "    df_phish = pd.read_csv(\"phishing_data.csv\", names = [\"url\"])\n",
    "    return df_safe, df_phish"
   ]
  },
  {
   "cell_type": "code",
   "execution_count": 3,
   "metadata": {},
   "outputs": [],
   "source": [
    "df_safe, df_phish = read_datasets()"
   ]
  },
  {
   "cell_type": "markdown",
   "metadata": {},
   "source": [
    "## Parsing an URL\n",
    "\n",
    "The following code cell disects an URL to the followings parts: `protocol`, `FQDN` (fully qualified domain name), `RDN` (registered domain name), `mld` (main level domain) and `freeURL`. freeURL refers to the parts of the URL that are fully controllable by the phisher, which means subdomains, paths and queries of the URL.\n",
    "\n",
    "An example of a parsed URL:\n",
    "\n",
    "| URL | Protocol |FQDN   | RDN | mld | freeURL | \n",
    "|------|------|------|------|------|------|\n",
    "|   `https://www.hs.fi/uutiset/`  | `https`| `www.hs.fi`  |  `hs.fi` | `hs`  | `[www, /uutiset/]`  |\n",
    "\n",
    "We disect the URLs to these different parts, so that we can use the properties of these different parts to extract features for each URL.\n",
    "\n",
    "The function `parse_url` uses the functions `urlparse` (from the `urllib` library) and `get_tld` (from the `tld` library) to parse the URL into pre-defined chunks, that are stored in their respective objectives. These chunks are then retrieved in their respective functions (`get_protocol`, `get_FQDN` etc.), and the `parse_url` function returns the information described in the first paragraph. \n",
    "\n",
    "The library `tld` and the function `get_tld` are used, because the `urlparse` function from the `urllib` library does not recognize second level domains (or higher), for example `.co.uk`. The `tld` library tries to find the top level domain from a database curated by Mozilla. ([tld documentation](https://tld.readthedocs.io/en/latest/))"
   ]
  },
  {
   "cell_type": "code",
   "execution_count": 4,
   "metadata": {},
   "outputs": [],
   "source": [
    "# Returns the protocol of the URL. If not defined, 'http' is assumed [not sure if valid assumption]\n",
    "def get_protocol(urlparse_obj):\n",
    "    protocol = urlparse_obj.scheme\n",
    "    if protocol == '':\n",
    "        return \"http\"\n",
    "    return protocol\n",
    "\n",
    "# Returns FQDN of URL\n",
    "def get_FQDN(urlparse_obj):\n",
    "    return urlparse_obj.netloc\n",
    "\n",
    "# Returns RDN of URL\n",
    "def get_RDN(tld_obj):\n",
    "    return tld_obj.domain + \".\" + tld_obj.tld # Concatenates the domain and the top level domain\n",
    "\n",
    "# Returns mld of URL\n",
    "def get_mld(RDN):\n",
    "    return RDN.split(\".\")[0]\n",
    "\n",
    "# Returns a list of freeURL, that has two elements. Second element is a concatenation of path and query of URL\n",
    "# Function will drop '?' [and possibly other chars] in the url that are between path and query\n",
    "def get_freeURL(urlparse_obj, tld_obj):\n",
    "    return [tld_obj.subdomain, urlparse_obj.path + urlparse_obj.query]\n",
    "\n",
    "def parse_url(url):\n",
    "\n",
    "    # tld library can sometimes fail with some weird URLs\n",
    "    # also some errors might be raised in various different situations I am sure\n",
    "    try: \n",
    "        # Two different objs that contain \n",
    "        urlparse_obj = urlparse(url)\n",
    "        tld_obj = tld.get_tld(url, as_object = True)\n",
    "        \n",
    "        # Collect all parts from respective 'get' functions\n",
    "        protocol = get_protocol(urlparse_obj)\n",
    "        FQDN = get_FQDN(urlparse_obj)\n",
    "        RDN = get_RDN(tld_obj)\n",
    "        mld = get_mld(RDN)\n",
    "        freeURL = get_freeURL(urlparse_obj, tld_obj)\n",
    "        return url, protocol, FQDN, RDN, mld, freeURL\n",
    "    \n",
    "    except: # Return None if URL parsing fails for some reason\n",
    "        return None"
   ]
  },
  {
   "cell_type": "markdown",
   "metadata": {},
   "source": [
    "## Extractor functions\n",
    "\n",
    "The following section contains functions that extract desired features from the different parts of URL.\n",
    "\n",
    "We extract the following features:\n",
    "\n",
    "1. URL length\n",
    "2. FQDN length\n",
    "3. mld length\n",
    "4. Amount of dots in the freeURL\n",
    "5. Level of domain\n",
    "6. If URL contains redirection or not\n",
    "7. Domain age in days (implementation given)\n",
    "8. How many HREF links are found in the HTML code\n",
    "\n",
    "\n",
    "The features were selected based on features used in the papers by [Aggarwal et al. (2013)](https://arxiv.org/pdf/1301.6899.pdf) and [Marchal et al. (2018)](https://arxiv.org/pdf/1510.06501.pdf).\n",
    "\n",
    "As can be seen from the list of features, they are mostly related to the properties of the URL string (features 1-5), where as features 6-8 focus more on the actual website itself. The URL strings are interesting to look at, since often phishers often try to use obfuscation methods, which lead to longer URLs and it's subparts (as described in previous section).\n",
    "\n",
    "The amount of features extracted could be higher, and in further development I would definitely add more features extracted via web scraping methods. Such features are well described by Marchal et. al (2018), which clearly show that looking at the contents of the website is important. From the contents we can learn for example if the phisher trying to mimic a popular website (e.g. content loaded from outside of the domain), and how the website uses links in its content (e.g. how many links to same domain or different domain).\n",
    "\n",
    "\n",
    "Because I wanted to do a full ML-type project and due to lack of prior web scraping skills, I wanted have features in the dataset that sufficiently are easy to extract. Due to this reason mostly URL string based features were selected. [Marchal et al. (2018)](https://arxiv.org/pdf/1510.06501.pdf) do mention more URL string based features, but they are not explained at all (e.g. count of terms in the URL, count of terms in the mld), so I did not know exactly what they mean, thus I decided to discard them. \n",
    "\n",
    "An extractor function for feature 8 is implemented, but the data is not collected for the two datasets (safe and malicious links). This is because the Wi-Fi firewalls at my apartment and university block the connection to most phishing sites, thus ironically making them unavailable for web scraping."
   ]
  },
  {
   "cell_type": "code",
   "execution_count": 114,
   "metadata": {},
   "outputs": [],
   "source": [
    "# Returns domain age\n",
    "def get_domain_age_in_days(domain):\n",
    "    show = \"https://input.payapi.io/v1/api/fraud/domain/age/\" + domain\n",
    "    data = requests.get(show).json()\n",
    "    return data['result'] if 'result' in data else np.NaN\n",
    "\n",
    "# Returns URL length\n",
    "def get_URL_length(url):\n",
    "    return len(url)\n",
    "\n",
    "# Returns FQDN length\n",
    "def get_FQDN_length(FQDN):\n",
    "    return len(FQDN)\n",
    "\n",
    "# Returns mld length\n",
    "def get_mld_length(mld):\n",
    "    return len(mld)\n",
    "\n",
    "# Returns the amount of dots in freeURL\n",
    "def get_amount_of_dots_in_freeURL(freeURL):\n",
    "    count = 0\n",
    "    for part in freeURL:\n",
    "        count += part.count(\".\")\n",
    "    return count\n",
    "\n",
    "# Returns if the original url gets redirected or not \n",
    "def get_redirection(url):\n",
    "    try:\n",
    "        r = requests.get(url, timeout = 5) # 5 seconds are given to see if the URL responds or not\n",
    "        if r.url == url:\n",
    "            return 0\n",
    "        else:\n",
    "            return 1\n",
    "    except: # If landing URL was not reached in time\n",
    "        return np.NaN\n",
    "    \n",
    "# Returns how many levels does the domain have\n",
    "def get_level_of_domain(RDN):\n",
    "    return len(RDN.split(\".\")) - 1\n",
    "\n",
    "# Returns how many HREF urls there are in the URL\n",
    "def get_HREF_amount(url):\n",
    "    count = 0\n",
    "    try: # try because website opening might fail\n",
    "        page = urllib.request.urlopen(url) # Open page\n",
    "        soup = BeautifulSoup(page, features=\"html5lib\") # Read contents with BeautifulSoup\n",
    "        count += len(soup.findAll('a', attrs={'href': re.compile(\"^https://\")})) # URLs with https\n",
    "        count += len(soup.findAll('a', attrs={'href': re.compile(\"^http://\")})) # URLs with http\n",
    "        return count\n",
    "    except: \n",
    "        return np.NaN"
   ]
  },
  {
   "cell_type": "code",
   "execution_count": 115,
   "metadata": {},
   "outputs": [
    {
     "data": {
      "text/plain": [
       "16"
      ]
     },
     "execution_count": 115,
     "metadata": {},
     "output_type": "execute_result"
    }
   ],
   "source": [
    "get_HREF_amount(\"https://www.hs.fi/uutiset/\")"
   ]
  },
  {
   "cell_type": "markdown",
   "metadata": {},
   "source": [
    "## Data generation\n",
    "\n",
    "The following function creates a dataset that has the URL and its domain age in days. The parameter `N_url` defines how many URLs are going to be in the output file. Also, only URLs for which the domain age can be found, are accepted.\n",
    "\n",
    "The dataframe that is passed as a parameter is shuffled, because for example in the Phishing data set, URLs with same domains were clumped together. Shuffling the URLs gives us more domain variance, and especially in small datasets. \n",
    "\n",
    "Extracting the domain age was done separately, because the querys for finding the domain age were quite slow. I wanted to have to extract the domain ages only once, so that I would have the data available and not have to query it each time I would need it.\n",
    "\n",
    "I ended up doing datasets of 100, 1000 and 5000 URLs for both classes."
   ]
  },
  {
   "cell_type": "code",
   "execution_count": 6,
   "metadata": {},
   "outputs": [],
   "source": [
    "# Creates a file with random urls (according to N_urls)\n",
    "# and their ages. Only accepts urls for which the date can be obtained\n",
    "# This was done as a separate function, since querying\n",
    "# urls is not very quick, and I wanted data that had the age info available\n",
    "def file_with_domain_ages(df, filename, N_urls = 100):\n",
    "\n",
    "    df_shuffled = df.sample(n = df.shape[0]).reset_index(drop=True) # Shuffles the original list of urls\n",
    "    domain_ages = np.array([]).astype(int) # Where we store domain ages\n",
    "    urls = np.array([]) # Where we store urls\n",
    "\n",
    "    for row in df_shuffled.values:\n",
    "        info = parse_url(row[0]) # Parse the url\n",
    "        if info != None: # If parsing was succesful\n",
    "            age = get_domain_age_in_days(info[3]) # Get domain age\n",
    "            if age != None: # If age was obtained\n",
    "                domain_ages = np.append(domain_ages, age)\n",
    "                urls = np.append(urls, info[0])\n",
    "            if len(domain_ages) >= N_urls: # Checks if enough urls have been gathered\n",
    "                break\n",
    "                \n",
    "    # Creates a csv\n",
    "    df_ages = pd.DataFrame({\"url\":urls, \"domain_age\": domain_ages})\n",
    "    df_ages.to_csv(filename+\"_\"+str(N_urls)+\".csv\", index = False)"
   ]
  },
  {
   "cell_type": "code",
   "execution_count": null,
   "metadata": {},
   "outputs": [],
   "source": [
    "# Creates files with URL and its corresponding domain age\n",
    "file_with_domain_ages(df_phish, \"phishing_data_with_domain_age\", N_urls = 100)\n",
    "file_with_domain_ages(df_safe, \"safe_data_with_domain_age\", N_urls = 100)"
   ]
  },
  {
   "cell_type": "markdown",
   "metadata": {},
   "source": [
    "The following function retrieves all the features from the extractor functions, and create a dataframe with said features. The function assumes that the file that which it opens, has the domain age info in it, on the second column."
   ]
  },
  {
   "cell_type": "code",
   "execution_count": 7,
   "metadata": {},
   "outputs": [],
   "source": [
    "def extract_features(filename, col_names):\n",
    "    df = pd.read_csv(filename)\n",
    "    df_features = pd.DataFrame(columns = col_names)\n",
    "\n",
    "    for row in df.values:\n",
    "        try:\n",
    "            url, protocol, FQDN, RDN, mld, freeURL = parse_url(row[0]) # Parse URL into pieces\n",
    "            info = [url, protocol, FQDN, RDN, mld, freeURL] # Create a list where we will add all features\n",
    "\n",
    "            info.append(row[1]) # Add domain age\n",
    "            info.append(get_URL_length(url)) # Add URL length\n",
    "            info.append(get_FQDN_length(FQDN)) # Add FQDN length\n",
    "            info.append(get_mld_length(mld)) # Add mld length\n",
    "            info.append(get_amount_of_dots_in_freeURL(freeURL)) # add amount of dots in Fre URL\n",
    "            info.append(get_redirection(url)) # Adds information if there was a redirection\n",
    "            info.append(get_level_of_domain(RDN)) # Adds information if there was a redirection\n",
    "\n",
    "        except: # If parsing the url was not succesful\n",
    "            info = [np.NaN] * len(col_names) # Could be replaced with doing nothing I guess\n",
    "        \n",
    "        df_tmp = pd.DataFrame(data = [info], columns = col_names) # Create df of URL features\n",
    "        df_features = pd.concat([df_features, df_tmp], # Concat latest URL the main df \n",
    "                                ignore_index = True, sort = False) \n",
    "    return df_features"
   ]
  },
  {
   "cell_type": "markdown",
   "metadata": {},
   "source": [
    "The following function combines the two datasets (safe URLs and phishing URLs) into one dataframe, which is then saved as a .csv file. The function `create_complete_dataset()` calls the `extract_features()` function to receive the feature info. All but the redirection feature are quick to extract, which is given 5 seconds as a timeout limit. "
   ]
  },
  {
   "cell_type": "code",
   "execution_count": 8,
   "metadata": {},
   "outputs": [],
   "source": [
    "def create_complete_dataset(N_url, col_names):\n",
    "    filename1 = \"safe_data_with_domain_age_\"+str(N_url)+\".csv\"\n",
    "    df_safe = extract_features(filename1, col_names)\n",
    "    df_safe[\"class\"] = 0 \n",
    "\n",
    "    filename2 = \"phishing_data_with_domain_age_\"+str(N_url)+\".csv\"\n",
    "    df_phish = extract_features(filename2, col_names)\n",
    "    df_phish[\"class\"] = 1\n",
    "\n",
    "    df_all = pd.concat([df_safe, df_phish], ignore_index = True, sort = False)\n",
    "    df_all.to_csv(\"final_data_\"+str(N_url)+\".csv\", index = False)"
   ]
  },
  {
   "cell_type": "code",
   "execution_count": null,
   "metadata": {},
   "outputs": [],
   "source": [
    "N_url = 100\n",
    "col_names = [\"url\", \"protocol\", \"FQDN\", \"RDN\", \"mld\",\n",
    "            \"freeURL\", \"domain_age\", \"URL_length\", \"FQDN_length\",\n",
    "           \"mld_length\", \"freeURL_dots\", \"redirection_status\",\n",
    "            \"domain_level\"]\n",
    "create_complete_dataset(N_url, col_names)"
   ]
  },
  {
   "cell_type": "markdown",
   "metadata": {},
   "source": [
    "The following function loads the final dataset, that was created with `create_complete_dataset()`. It only takes the columns that are passed in the `feature_columns` parameter. It changes `https` and `http` values at the `protocol` column to `0` and `1`, respectively."
   ]
  },
  {
   "cell_type": "code",
   "execution_count": 61,
   "metadata": {},
   "outputs": [],
   "source": [
    "def load_dataset(N_url, feature_colnames):\n",
    "    df = pd.read_csv(\"final_data_\"+str(N_url)+\".csv\")\n",
    "    df_features = df[feature_colnames]\n",
    "    df_features[\"protocol\"].replace({\"https\": 0, \"http\": 1}, inplace = True)\n",
    "    return df_features"
   ]
  },
  {
   "cell_type": "markdown",
   "metadata": {},
   "source": [
    "## Visualizing data"
   ]
  },
  {
   "cell_type": "markdown",
   "metadata": {},
   "source": [
    "Before implementing an ML model to predict the malicousness of an URL, we visualize a few of the features to compare the two different classes against each other."
   ]
  },
  {
   "cell_type": "code",
   "execution_count": 116,
   "metadata": {},
   "outputs": [
    {
     "name": "stderr",
     "output_type": "stream",
     "text": [
      "/Library/Frameworks/Python.framework/Versions/3.7/lib/python3.7/site-packages/pandas/core/generic.py:5890: SettingWithCopyWarning: \n",
      "A value is trying to be set on a copy of a slice from a DataFrame\n",
      "\n",
      "See the caveats in the documentation: http://pandas.pydata.org/pandas-docs/stable/indexing.html#indexing-view-versus-copy\n",
      "  self._update_inplace(new_data)\n"
     ]
    },
    {
     "data": {
      "text/html": [
       "<div>\n",
       "<style scoped>\n",
       "    .dataframe tbody tr th:only-of-type {\n",
       "        vertical-align: middle;\n",
       "    }\n",
       "\n",
       "    .dataframe tbody tr th {\n",
       "        vertical-align: top;\n",
       "    }\n",
       "\n",
       "    .dataframe thead th {\n",
       "        text-align: right;\n",
       "    }\n",
       "</style>\n",
       "<table border=\"1\" class=\"dataframe\">\n",
       "  <thead>\n",
       "    <tr style=\"text-align: right;\">\n",
       "      <th></th>\n",
       "      <th>protocol</th>\n",
       "      <th>domain_age</th>\n",
       "      <th>URL_length</th>\n",
       "      <th>FQDN_length</th>\n",
       "      <th>mld_length</th>\n",
       "      <th>freeURL_dots</th>\n",
       "      <th>redirection_status</th>\n",
       "      <th>domain_level</th>\n",
       "      <th>class</th>\n",
       "    </tr>\n",
       "  </thead>\n",
       "  <tbody>\n",
       "    <tr>\n",
       "      <th>0</th>\n",
       "      <td>1</td>\n",
       "      <td>2907</td>\n",
       "      <td>25</td>\n",
       "      <td>17</td>\n",
       "      <td>6</td>\n",
       "      <td>0</td>\n",
       "      <td>0.0</td>\n",
       "      <td>1</td>\n",
       "      <td>0</td>\n",
       "    </tr>\n",
       "    <tr>\n",
       "      <th>1</th>\n",
       "      <td>1</td>\n",
       "      <td>5639</td>\n",
       "      <td>30</td>\n",
       "      <td>22</td>\n",
       "      <td>10</td>\n",
       "      <td>0</td>\n",
       "      <td>0.0</td>\n",
       "      <td>1</td>\n",
       "      <td>0</td>\n",
       "    </tr>\n",
       "    <tr>\n",
       "      <th>2</th>\n",
       "      <td>0</td>\n",
       "      <td>7692</td>\n",
       "      <td>32</td>\n",
       "      <td>23</td>\n",
       "      <td>15</td>\n",
       "      <td>0</td>\n",
       "      <td>0.0</td>\n",
       "      <td>1</td>\n",
       "      <td>0</td>\n",
       "    </tr>\n",
       "    <tr>\n",
       "      <th>3</th>\n",
       "      <td>1</td>\n",
       "      <td>4122</td>\n",
       "      <td>40</td>\n",
       "      <td>32</td>\n",
       "      <td>17</td>\n",
       "      <td>1</td>\n",
       "      <td>0.0</td>\n",
       "      <td>1</td>\n",
       "      <td>0</td>\n",
       "    </tr>\n",
       "    <tr>\n",
       "      <th>4</th>\n",
       "      <td>1</td>\n",
       "      <td>7300</td>\n",
       "      <td>24</td>\n",
       "      <td>16</td>\n",
       "      <td>9</td>\n",
       "      <td>0</td>\n",
       "      <td>0.0</td>\n",
       "      <td>1</td>\n",
       "      <td>0</td>\n",
       "    </tr>\n",
       "  </tbody>\n",
       "</table>\n",
       "</div>"
      ],
      "text/plain": [
       "   protocol  domain_age  URL_length  FQDN_length  mld_length  freeURL_dots  \\\n",
       "0         1        2907          25           17           6             0   \n",
       "1         1        5639          30           22          10             0   \n",
       "2         0        7692          32           23          15             0   \n",
       "3         1        4122          40           32          17             1   \n",
       "4         1        7300          24           16           9             0   \n",
       "\n",
       "   redirection_status  domain_level  class  \n",
       "0                 0.0             1      0  \n",
       "1                 0.0             1      0  \n",
       "2                 0.0             1      0  \n",
       "3                 0.0             1      0  \n",
       "4                 0.0             1      0  "
      ]
     },
     "execution_count": 116,
     "metadata": {},
     "output_type": "execute_result"
    }
   ],
   "source": [
    "N_url = 5000\n",
    "feature_colnames = [\"protocol\", \"domain_age\", \"URL_length\", \"FQDN_length\",\n",
    "                    \"mld_length\", \"freeURL_dots\", \"redirection_status\",\n",
    "                    \"domain_level\", \"class\"]\n",
    "df = load_dataset(N_url, feature_colnames) \n",
    "df.head()"
   ]
  },
  {
   "cell_type": "markdown",
   "metadata": {},
   "source": [
    "We plot the histograms of the URL domain ages for both classes.\n",
    "\n",
    "It can be seen that the distribution of ages for the phishing URLs resembles an exponential distribution. For the safe URLs, the ages are more equally distributed. This confirms partly that most phishing sites are not well established domains, but rather newly formed."
   ]
  },
  {
   "cell_type": "code",
   "execution_count": 49,
   "metadata": {},
   "outputs": [
    {
     "data": {
      "image/png": "[encoded data removed]",
      "text/plain": [
       "<Figure size 432x288 with 1 Axes>"
      ]
     },
     "metadata": {
      "needs_background": "light"
     },
     "output_type": "display_data"
    }
   ],
   "source": [
    "x = df.loc[df[\"class\"] == 0][\"domain_age\"].values\n",
    "y = df.loc[df[\"class\"] == 1][\"domain_age\"].values\n",
    "plt.hist(x, bins = 20, alpha=0.5, label= 'Domain age (safe)')\n",
    "plt.hist(y, bins = 20, alpha=0.5, label= 'Domain age (phishing)')\n",
    "plt.legend(loc='upper right')\n",
    "plt.show()"
   ]
  },
  {
   "cell_type": "markdown",
   "metadata": {},
   "source": [
    "The second feature we visualize is the URL length. Due to the obfuscation tactics used by the phishers, the URL lengths tend to be lengthier, as can be seen from the histogram.\n",
    "\n",
    "However, the maximum value and variance of the safe URLs can be seen to be quite small. This is due to the fact that most of the safe URL data does not contain `path` and `query` parts in it's URLs. This can significantly affect the URL length, since now the URLs basicly point to the front page of the website.\n",
    "\n",
    "This is a clearly a quite big flaw in the data, since most of the safe data URLs do not correspond to a \"real-life\" safe URL, because most safe URLs will always have `path` and `query` parts in them."
   ]
  },
  {
   "cell_type": "code",
   "execution_count": 58,
   "metadata": {},
   "outputs": [
    {
     "data": {
      "image/png": "[encoded data removed]",
      "text/plain": [
       "<Figure size 432x288 with 1 Axes>"
      ]
     },
     "metadata": {
      "needs_background": "light"
     },
     "output_type": "display_data"
    }
   ],
   "source": [
    "x = df.loc[df[\"class\"] == 0][\"URL_length\"].values\n",
    "y = df.loc[df[\"class\"] == 1][\"URL_length\"].values\n",
    "plt.hist(x, bins = 10, alpha=0.5, label='URL length (safe)', range = (0, 75))\n",
    "plt.hist(y, bins = 20, alpha=0.5, label='URL_length (phishing)', range = (0, 200))\n",
    "plt.legend(loc='upper right')\n",
    "plt.show()"
   ]
  },
  {
   "cell_type": "markdown",
   "metadata": {},
   "source": [
    "The lack of `path` and `query` will automatically affect the amount of dots in `freeURL` part, which is also a feature in the dataset. As can be seen from the histogram, most of the safe URLs have 0 dot in the `freeURL` parts, where as the amount of dots is a bit more diverse for the phishing URLs."
   ]
  },
  {
   "cell_type": "code",
   "execution_count": 69,
   "metadata": {},
   "outputs": [
    {
     "data": {
      "image/png": "[encoded data removed]",
      "text/plain": [
       "<Figure size 432x288 with 1 Axes>"
      ]
     },
     "metadata": {
      "needs_background": "light"
     },
     "output_type": "display_data"
    }
   ],
   "source": [
    "x = df.loc[df[\"class\"] == 0][\"freeURL_dots\"].values\n",
    "y = df.loc[df[\"class\"] == 1][\"freeURL_dots\"].values\n",
    "plt.hist(x, bins = 10, alpha=0.5, label='freeURL dots (safe)', range = (0, 10))\n",
    "plt.hist(y, bins = 10, alpha=0.5, label='freeURL dots (phishing)', range = (0, 10))\n",
    "plt.legend(loc='upper right')\n",
    "plt.show()"
   ]
  },
  {
   "cell_type": "markdown",
   "metadata": {},
   "source": [
    "These observations regarding the dataset are important to keep in mind when looking at the results of the predictor model at the next section. "
   ]
  },
  {
   "cell_type": "markdown",
   "metadata": {},
   "source": [
    "## Predicting the malicousness of an URL\n",
    "\n",
    "In this section I create a machine learning model to predict whether an URL is malicous or not. "
   ]
  },
  {
   "cell_type": "code",
   "execution_count": 98,
   "metadata": {},
   "outputs": [
    {
     "name": "stderr",
     "output_type": "stream",
     "text": [
      "/Library/Frameworks/Python.framework/Versions/3.7/lib/python3.7/site-packages/pandas/core/generic.py:5890: SettingWithCopyWarning: \n",
      "A value is trying to be set on a copy of a slice from a DataFrame\n",
      "\n",
      "See the caveats in the documentation: http://pandas.pydata.org/pandas-docs/stable/indexing.html#indexing-view-versus-copy\n",
      "  self._update_inplace(new_data)\n"
     ]
    }
   ],
   "source": [
    "# Load the data\n",
    "\n",
    "N_url = 5000\n",
    "feature_colnames = [\"protocol\", \"domain_age\", \"URL_length\", \"FQDN_length\",\n",
    "                    \"mld_length\", \"freeURL_dots\", \"redirection_status\",\n",
    "                    \"domain_level\", \"class\"]\n",
    "df_features = load_dataset(N_url, feature_colnames)"
   ]
  },
  {
   "cell_type": "markdown",
   "metadata": {},
   "source": [
    "We drop the rows with NA values, and separate the features and the label of the URL."
   ]
  },
  {
   "cell_type": "code",
   "execution_count": 99,
   "metadata": {},
   "outputs": [],
   "source": [
    "df_features = df_features.dropna() # Drop rows with NAs\n",
    "X = df_features.drop([\"class\"], axis = 1).values # Drop label column, so we only have our features\n",
    "y = df_features[\"class\"].values # Our labels "
   ]
  },
  {
   "cell_type": "markdown",
   "metadata": {},
   "source": [
    "Here we split the data into a training and a test set. Currently, the the test size is set to 90%. This corresponds to around 1000 URLs in total (so around 500 URLs per each class). This is mimicking what [Marchal et al. (2018)](https://arxiv.org/pdf/1510.06501.pdf) describe as their proportional training set size."
   ]
  },
  {
   "cell_type": "code",
   "execution_count": 100,
   "metadata": {},
   "outputs": [],
   "source": [
    "# Split training and test data\n",
    "X_train, X_test, y_train, y_test = train_test_split(X, y, test_size = 0.9)"
   ]
  },
  {
   "cell_type": "markdown",
   "metadata": {},
   "source": [
    "Next, we scale all of our data to be between 0 and 1."
   ]
  },
  {
   "cell_type": "code",
   "execution_count": 101,
   "metadata": {},
   "outputs": [],
   "source": [
    "# Scale our training and test data \n",
    "scaler = MinMaxScaler() # Create scaler object\n",
    "X_train = scaler.fit_transform(X_train) # Fits and transforms training data\n",
    "X_test = scaler.transform(X_test) # Transforms test data according to the fit by training data"
   ]
  },
  {
   "cell_type": "markdown",
   "metadata": {},
   "source": [
    "Now we train our classifier. As my classifying method I chose Gradient Boosting based on the paper by [Marchal et al. (2018)](https://arxiv.org/pdf/1510.06501.pdf). I treat the method mostly as a black box, but try to tune one hyperparameter which is the learning rate.\n",
    "\n",
    "Our criterion for the best classifier is based on the validation accuracy of the model. As can be seen from the final print statement, our accuracy of predicting the malicousness of an URL is roughly 93.6%."
   ]
  },
  {
   "cell_type": "code",
   "execution_count": 102,
   "metadata": {},
   "outputs": [
    {
     "name": "stdout",
     "output_type": "stream",
     "text": [
      "Best learning rate:  0.25\n",
      "Best accuracy score (training): 1.000\n",
      "Best accuracy score (validation): 0.936\n"
     ]
    }
   ],
   "source": [
    "lr_list = [0.05, 0.075, 0.1, 0.25, 0.5, 0.75, 1] # Define set of learning rates we iterate over\n",
    "\n",
    "best_classifier = best_learning_rate =  best_training_acc = best_validation_acc = 0 # Init the best\n",
    "\n",
    "for learning_rate in lr_list:\n",
    "    clf = GradientBoostingClassifier(learning_rate=learning_rate) # Create object\n",
    "    clf.fit(X_train, y_train) # Train\n",
    "    \n",
    "    val_acc = clf.score(X_test, y_test) # Validation acc\n",
    "    \n",
    "    if val_acc > best_validation_acc: # If we improved from last learning rate\n",
    "        best_learning_rate = learning_rate\n",
    "        best_training_acc = clf.score(X_train, y_train)\n",
    "        best_validation_acc = val_acc\n",
    "        best_classifier = clf\n",
    "\n",
    "print(\"Best learning rate: \", best_learning_rate)\n",
    "print(\"Best accuracy score (training): {0:.3f}\".format(best_training_acc))\n",
    "print(\"Best accuracy score (validation): {0:.3f}\".format(best_validation_acc))"
   ]
  },
  {
   "cell_type": "markdown",
   "metadata": {},
   "source": [
    "Finally, we plot the confusion matrix based on the best classifier we created in the previous cell."
   ]
  },
  {
   "cell_type": "code",
   "execution_count": 103,
   "metadata": {},
   "outputs": [
    {
     "data": {
      "image/png": "[encoded data removed]",
      "text/plain": [
       "<Figure size 432x288 with 2 Axes>"
      ]
     },
     "metadata": {
      "needs_background": "light"
     },
     "output_type": "display_data"
    }
   ],
   "source": [
    "# Plot normalized confusion matrix\n",
    "class_names = [\"Safe\", \"Phishing\"]\n",
    "\n",
    "disp = plot_confusion_matrix(best_classifier, X_test, y_test,\n",
    "                             display_labels=class_names,\n",
    "                             cmap=plt.cm.Blues,\n",
    "                             normalize= 'true')\n",
    "disp.ax_.set_title(title)\n",
    "plt.show()"
   ]
  },
  {
   "cell_type": "markdown",
   "metadata": {},
   "source": [
    "## Discussion\n",
    "\n",
    "The results of the model are surprisingly good, even with only 7 features and a relatively small training set. However, as mentioned the before, we have to be critical of the results due to the characteristics of the safe URL data. The model was created more as a proof of concept rather than attempt to create a high performance ML model that was tuned to the max. I was interested to see how they features I extracted would actually perform in a model.\n",
    "\n",
    "There are multiple things to expand based on the work I for this project did: \n",
    "\n",
    "- The safe URL dataset should be improved to include the `path` and `query` parts for all of the safe websites. Datasets should also be larger (in literature they datasets the size of hundreds of thousands).\n",
    "- More features should be extracted. Especially ones that can be obtained via web scraping methods, that are related to the contents of the website HTML code\n",
    "- Conduct PCA for the continuous variables to see which features explain most of the variance (if any)\n",
    "- Try different classification methods (for example SVM was mentioned in [Corona et al. (2017)](https://arxiv.org/pdf/1707.00317.pdf)) and try to tune them (e.g. hyperparameter search, regularization methods etc.)\n",
    "- The workflow of the notebook could be a lot more agile. At this point it is too much like a house of cards. For example, the feature extraction into a csv file should be rebuilt so that by running 1 function call, it would create the whole dataset (`final_data_xyz.csv`). Also, the whole dataset should have been used to create a feature database, and then by changing one variable, we would be able to choose how many URLs we use for analysis etc. "
   ]
  }
 ],
 "metadata": {
  "kernelspec": {
   "display_name": "Python 3",
   "language": "python",
   "name": "python3"
  },
  "language_info": {
   "codemirror_mode": {
    "name": "ipython",
    "version": 3
   },
   "file_extension": ".py",
   "mimetype": "text/x-python",
   "name": "python",
   "nbconvert_exporter": "python",
   "pygments_lexer": "ipython3",
   "version": "3.7.0"
  }
 },
 "nbformat": 4,
 "nbformat_minor": 2
}
